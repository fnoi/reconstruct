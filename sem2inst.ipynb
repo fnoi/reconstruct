{
 "cells": [
  {
   "cell_type": "markdown",
   "source": [
    "## flexible debug notebook for instance segmentation"
   ],
   "metadata": {
    "collapsed": false
   },
   "id": "8b0d3600421ea41e"
  },
  {
   "cell_type": "code",
   "execution_count": 1,
   "id": "initial_id",
   "metadata": {
    "collapsed": true,
    "ExecuteTime": {
     "end_time": "2024-03-07T16:02:34.416455Z",
     "start_time": "2024-03-07T16:02:33.780113Z"
    }
   },
   "outputs": [],
   "source": [
    "import numpy as np\n",
    "\n",
    "import open3d as o3d\n",
    "\n",
    "import tools.IO as IO"
   ]
  },
  {
   "cell_type": "markdown",
   "source": [
    "### IO: get config"
   ],
   "metadata": {
    "collapsed": false
   },
   "id": "1bb337f4c8a72154"
  },
  {
   "cell_type": "code",
   "outputs": [],
   "source": [
    "config = IO.get_is_conf()\n",
    "# config.general.path"
   ],
   "metadata": {
    "collapsed": false,
    "ExecuteTime": {
     "end_time": "2024-03-07T16:02:36.944925Z",
     "start_time": "2024-03-07T16:02:36.937066Z"
    }
   },
   "id": "7a2da8e828d35446",
   "execution_count": 2
  },
  {
   "cell_type": "markdown",
   "source": [
    "### load raw data, estimate normals, park normals  "
   ],
   "metadata": {
    "collapsed": false
   },
   "id": "fbc39e6d15470cca"
  },
  {
   "cell_type": "code",
   "outputs": [],
   "source": [
    "with open(config.general.path, 'r') as file:\n",
    "    array_point_coords = np.loadtxt(file)[:, :3]\n",
    "pointcloud = o3d.geometry.PointCloud()\n",
    "pointcloud.points = o3d.utility.Vector3dVector(array_point_coords)\n",
    "pointcloud.estimate_normals(\n",
    "    search_param=o3d.geometry.KDTreeSearchParamHybrid(\n",
    "        radius=config.local.normals_radius, max_nn=config.local.max_nn\n",
    "    )\n",
    ")\n"
   ],
   "metadata": {
    "collapsed": false,
    "ExecuteTime": {
     "end_time": "2024-03-07T16:02:39.076449Z",
     "start_time": "2024-03-07T16:02:39.051774Z"
    }
   },
   "id": "3d4b63e4282a50e8",
   "execution_count": 3
  },
  {
   "cell_type": "markdown",
   "source": [
    "###"
   ],
   "metadata": {
    "collapsed": false
   },
   "id": "64ffc272232007c2"
  }
 ],
 "metadata": {
  "kernelspec": {
   "display_name": "Python 3",
   "language": "python",
   "name": "python3"
  },
  "language_info": {
   "codemirror_mode": {
    "name": "ipython",
    "version": 2
   },
   "file_extension": ".py",
   "mimetype": "text/x-python",
   "name": "python",
   "nbconvert_exporter": "python",
   "pygments_lexer": "ipython2",
   "version": "2.7.6"
  }
 },
 "nbformat": 4,
 "nbformat_minor": 5
}
