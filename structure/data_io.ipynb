{
 "cells": [
  {
   "metadata": {
    "ExecuteTime": {
     "end_time": "2024-09-25T15:11:53.708429Z",
     "start_time": "2024-09-25T15:11:53.705694Z"
    }
   },
   "cell_type": "code",
   "source": [
    "import pandas as pd\n",
    "import numpy as np\n",
    "path = '/Users/fnoic/PycharmProjects/reconstruct/data/beams/aisc-shapes-database-v15.0.csv'"
   ],
   "id": "1ed9408b786dd9de",
   "outputs": [],
   "execution_count": 17
  },
  {
   "metadata": {
    "ExecuteTime": {
     "end_time": "2024-09-25T15:11:55.195997Z",
     "start_time": "2024-09-25T15:11:55.131628Z"
    }
   },
   "cell_type": "code",
   "source": [
    "with open(path, 'r', newline='\\n') as f:\n",
    "    beams = pd.read_csv(f, header=0, sep=';')\n",
    "    # retrieve name of first column\n",
    "    uno = beams.columns[0]\n",
    "    beams_frame = beams[[uno, 'AISC_Manual_Label', 'tw.1', 'tf.1', 'bf.1', 'd.1']]\n",
    "    # rename columns\n",
    "    beams_frame.columns = ['type', 'label', 'tw', 'tf', 'bf', 'd']\n",
    "    # remove all \"â€“\", replace with nan\n",
    "    beams_frame = beams_frame.replace('â€“', np.nan, regex=True)\n",
    "    # replace all , with . for tw tf bf and d\n",
    "    beams_frame = beams_frame.replace(',', '.', regex=True)\n",
    "    # drop all rows with –\n",
    "    beams_frame = beams_frame.replace('–', np.nan, regex=True)\n",
    "    # convert to numeric in column tw\n",
    "    beams_frame[['tw', 'tf', 'bf', 'd']] = beams_frame[['tw', 'tf', 'bf', 'd']].apply(pd.to_numeric)\n",
    "    # beams_frame = beams_frame.apply(pd.to_numeric)\n",
    "\n",
    "# divide the selected columns by 1000 to convert to mm\n",
    "beams_frame[['tw', 'tf', 'bf', 'd']] = beams_frame[['tw', 'tf', 'bf', 'd']] / 1e3"
   ],
   "id": "9d9af922516c676d",
   "outputs": [],
   "execution_count": 18
  },
  {
   "metadata": {
    "ExecuteTime": {
     "end_time": "2024-09-25T15:12:32.082833Z",
     "start_time": "2024-09-25T15:12:32.079505Z"
    }
   },
   "cell_type": "code",
   "source": "beams_frame.to_pickle('/Users/fnoic/PycharmProjects/reconstruct/data/beams/beams_frame.pkl')",
   "id": "170cea4e2c663cf9",
   "outputs": [],
   "execution_count": 20
  },
  {
   "metadata": {
    "ExecuteTime": {
     "end_time": "2024-09-25T15:19:51.837005Z",
     "start_time": "2024-09-25T15:19:51.831221Z"
    }
   },
   "cell_type": "code",
   "source": [
    "with open('/Users/fnoic/PycharmProjects/reconstruct/data/beams/beams_frame.pkl', 'rb') as f:\n",
    "    beams_framey = pd.read_pickle(f)"
   ],
   "id": "efde52ae6e62ae4",
   "outputs": [],
   "execution_count": 21
  },
  {
   "metadata": {
    "ExecuteTime": {
     "end_time": "2024-09-25T15:19:54.784868Z",
     "start_time": "2024-09-25T15:19:54.777878Z"
    }
   },
   "cell_type": "code",
   "source": "beams_framey",
   "id": "7dfeb87419f15a48",
   "outputs": [
    {
     "data": {
      "text/plain": [
       "      type         label      tw      tf     bf     d\n",
       "0        W       W44X335  0.0262  0.0450  0.404  1.12\n",
       "1        W       W44X290  0.0220  0.0401  0.401  1.11\n",
       "2        W       W44X262  0.0199  0.0361  0.401  1.10\n",
       "3        W       W44X230  0.0180  0.0310  0.401  1.09\n",
       "4        W       W40X655  0.0500  0.0899  0.429  1.11\n",
       "...    ...           ...     ...     ...    ...   ...\n",
       "2088  PIPE      Pipe3XXS     NaN     NaN    NaN   NaN\n",
       "2089  PIPE  Pipe2-1/2XXS     NaN     NaN    NaN   NaN\n",
       "2090  PIPE      Pipe2XXS     NaN     NaN    NaN   NaN\n",
       "2091   NaN           NaN     NaN     NaN    NaN   NaN\n",
       "2092   NaN           NaN     NaN     NaN    NaN   NaN\n",
       "\n",
       "[2093 rows x 6 columns]"
      ],
      "text/html": [
       "<div>\n",
       "<style scoped>\n",
       "    .dataframe tbody tr th:only-of-type {\n",
       "        vertical-align: middle;\n",
       "    }\n",
       "\n",
       "    .dataframe tbody tr th {\n",
       "        vertical-align: top;\n",
       "    }\n",
       "\n",
       "    .dataframe thead th {\n",
       "        text-align: right;\n",
       "    }\n",
       "</style>\n",
       "<table border=\"1\" class=\"dataframe\">\n",
       "  <thead>\n",
       "    <tr style=\"text-align: right;\">\n",
       "      <th></th>\n",
       "      <th>type</th>\n",
       "      <th>label</th>\n",
       "      <th>tw</th>\n",
       "      <th>tf</th>\n",
       "      <th>bf</th>\n",
       "      <th>d</th>\n",
       "    </tr>\n",
       "  </thead>\n",
       "  <tbody>\n",
       "    <tr>\n",
       "      <th>0</th>\n",
       "      <td>W</td>\n",
       "      <td>W44X335</td>\n",
       "      <td>0.0262</td>\n",
       "      <td>0.0450</td>\n",
       "      <td>0.404</td>\n",
       "      <td>1.12</td>\n",
       "    </tr>\n",
       "    <tr>\n",
       "      <th>1</th>\n",
       "      <td>W</td>\n",
       "      <td>W44X290</td>\n",
       "      <td>0.0220</td>\n",
       "      <td>0.0401</td>\n",
       "      <td>0.401</td>\n",
       "      <td>1.11</td>\n",
       "    </tr>\n",
       "    <tr>\n",
       "      <th>2</th>\n",
       "      <td>W</td>\n",
       "      <td>W44X262</td>\n",
       "      <td>0.0199</td>\n",
       "      <td>0.0361</td>\n",
       "      <td>0.401</td>\n",
       "      <td>1.10</td>\n",
       "    </tr>\n",
       "    <tr>\n",
       "      <th>3</th>\n",
       "      <td>W</td>\n",
       "      <td>W44X230</td>\n",
       "      <td>0.0180</td>\n",
       "      <td>0.0310</td>\n",
       "      <td>0.401</td>\n",
       "      <td>1.09</td>\n",
       "    </tr>\n",
       "    <tr>\n",
       "      <th>4</th>\n",
       "      <td>W</td>\n",
       "      <td>W40X655</td>\n",
       "      <td>0.0500</td>\n",
       "      <td>0.0899</td>\n",
       "      <td>0.429</td>\n",
       "      <td>1.11</td>\n",
       "    </tr>\n",
       "    <tr>\n",
       "      <th>...</th>\n",
       "      <td>...</td>\n",
       "      <td>...</td>\n",
       "      <td>...</td>\n",
       "      <td>...</td>\n",
       "      <td>...</td>\n",
       "      <td>...</td>\n",
       "    </tr>\n",
       "    <tr>\n",
       "      <th>2088</th>\n",
       "      <td>PIPE</td>\n",
       "      <td>Pipe3XXS</td>\n",
       "      <td>NaN</td>\n",
       "      <td>NaN</td>\n",
       "      <td>NaN</td>\n",
       "      <td>NaN</td>\n",
       "    </tr>\n",
       "    <tr>\n",
       "      <th>2089</th>\n",
       "      <td>PIPE</td>\n",
       "      <td>Pipe2-1/2XXS</td>\n",
       "      <td>NaN</td>\n",
       "      <td>NaN</td>\n",
       "      <td>NaN</td>\n",
       "      <td>NaN</td>\n",
       "    </tr>\n",
       "    <tr>\n",
       "      <th>2090</th>\n",
       "      <td>PIPE</td>\n",
       "      <td>Pipe2XXS</td>\n",
       "      <td>NaN</td>\n",
       "      <td>NaN</td>\n",
       "      <td>NaN</td>\n",
       "      <td>NaN</td>\n",
       "    </tr>\n",
       "    <tr>\n",
       "      <th>2091</th>\n",
       "      <td>NaN</td>\n",
       "      <td>NaN</td>\n",
       "      <td>NaN</td>\n",
       "      <td>NaN</td>\n",
       "      <td>NaN</td>\n",
       "      <td>NaN</td>\n",
       "    </tr>\n",
       "    <tr>\n",
       "      <th>2092</th>\n",
       "      <td>NaN</td>\n",
       "      <td>NaN</td>\n",
       "      <td>NaN</td>\n",
       "      <td>NaN</td>\n",
       "      <td>NaN</td>\n",
       "      <td>NaN</td>\n",
       "    </tr>\n",
       "  </tbody>\n",
       "</table>\n",
       "<p>2093 rows × 6 columns</p>\n",
       "</div>"
      ]
     },
     "execution_count": 22,
     "metadata": {},
     "output_type": "execute_result"
    }
   ],
   "execution_count": 22
  }
 ],
 "metadata": {
  "kernelspec": {
   "display_name": "Python 3",
   "language": "python",
   "name": "python3"
  },
  "language_info": {
   "codemirror_mode": {
    "name": "ipython",
    "version": 2
   },
   "file_extension": ".py",
   "mimetype": "text/x-python",
   "name": "python",
   "nbconvert_exporter": "python",
   "pygments_lexer": "ipython2",
   "version": "2.7.6"
  }
 },
 "nbformat": 4,
 "nbformat_minor": 5
}
