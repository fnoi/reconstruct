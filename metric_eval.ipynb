{
 "cells": [
  {
   "cell_type": "code",
   "outputs": [
    {
     "name": "stdout",
     "output_type": "stream",
     "text": [
      "Requirement already satisfied: omegaconf in ./pymesh/lib/python3.9/site-packages (2.3.0)\r\n",
      "Requirement already satisfied: antlr4-python3-runtime==4.9.* in ./pymesh/lib/python3.9/site-packages (from omegaconf) (4.9.3)\r\n",
      "Requirement already satisfied: PyYAML>=5.1.0 in ./pymesh/lib/python3.9/site-packages (from omegaconf) (6.0.1)\r\n"
     ]
    },
    {
     "ename": "ModuleNotFoundError",
     "evalue": "No module named 'omegaconf'",
     "output_type": "error",
     "traceback": [
      "\u001B[0;31m---------------------------------------------------------------------------\u001B[0m",
      "\u001B[0;31mModuleNotFoundError\u001B[0m                       Traceback (most recent call last)",
      "Cell \u001B[0;32mIn[14], line 2\u001B[0m\n\u001B[1;32m      1\u001B[0m get_ipython()\u001B[38;5;241m.\u001B[39msystem(\u001B[38;5;124m'\u001B[39m\u001B[38;5;124mpip install omegaconf\u001B[39m\u001B[38;5;124m'\u001B[39m)\n\u001B[0;32m----> 2\u001B[0m \u001B[38;5;28;01mfrom\u001B[39;00m \u001B[38;5;21;01momegaconf\u001B[39;00m \u001B[38;5;28;01mimport\u001B[39;00m OmegaConf\n",
      "\u001B[0;31mModuleNotFoundError\u001B[0m: No module named 'omegaconf'"
     ]
    }
   ],
   "source": [
    "!pip install omegaconf\n",
    "from omegaconf import OmegaConf"
   ],
   "metadata": {
    "collapsed": false,
    "ExecuteTime": {
     "end_time": "2024-02-02T10:27:46.494315Z",
     "start_time": "2024-02-02T10:27:44.429175Z"
    }
   },
   "id": "e6cf1f12d71e9631",
   "execution_count": 14
  },
  {
   "cell_type": "code",
   "execution_count": 3,
   "id": "initial_id",
   "metadata": {
    "collapsed": true,
    "ExecuteTime": {
     "end_time": "2024-02-02T10:17:19.898755Z",
     "start_time": "2024-02-02T10:17:19.896326Z"
    }
   },
   "outputs": [],
   "source": [
    "# load data from instance_orientation.yaml\n",
    "data = OmegaConf.load('instance_orientation.yaml')"
   ]
  },
  {
   "cell_type": "code",
   "outputs": [
    {
     "data": {
      "text/plain": "{'0': {'X1': -88.9,\n  'Y2': -0.1,\n  'Z3': 0.2,\n  'rcx': -0.686892,\n  'rcy': 17.964408,\n  'rcz': 6.910426,\n  'cex': -0.686892,\n  'cey': 17.96479,\n  'cez': 7.772039},\n '1': {'X1': -166.2,\n  'Y2': -89.9,\n  'Z3': 75.8,\n  'rcx': -0.264712,\n  'rcy': 18.716293,\n  'rcz': 6.849306,\n  'cex': -0.256339,\n  'cey': 18.804388,\n  'cez': 7.142738},\n '2': {'X1': -179.9,\n  'Y2': 0.0,\n  'Z3': 90.6,\n  'rcx': -0.264712,\n  'rcy': 18.716293,\n  'rcz': 6.849306,\n  'cex': -0.253052,\n  'cey': 18.280403,\n  'cez': 7.294923},\n '3': {'X1': -129.6,\n  'Y2': -0.1,\n  'Z3': 90.8,\n  'rcx': -0.695482,\n  'rcy': 18.196239,\n  'rcz': 6.445292,\n  'cex': -0.681569,\n  'cey': 18.172995,\n  'cez': 6.662599}}"
     },
     "execution_count": 4,
     "metadata": {},
     "output_type": "execute_result"
    }
   ],
   "source": [
    "data"
   ],
   "metadata": {
    "collapsed": false,
    "ExecuteTime": {
     "end_time": "2024-02-02T10:17:28.577031Z",
     "start_time": "2024-02-02T10:17:28.554842Z"
    }
   },
   "id": "3b7599c4ab9256e1",
   "execution_count": 4
  }
 ],
 "metadata": {
  "kernelspec": {
   "display_name": "Python 3",
   "language": "python",
   "name": "python3"
  },
  "language_info": {
   "codemirror_mode": {
    "name": "ipython",
    "version": 2
   },
   "file_extension": ".py",
   "mimetype": "text/x-python",
   "name": "python",
   "nbconvert_exporter": "python",
   "pygments_lexer": "ipython2",
   "version": "2.7.6"
  }
 },
 "nbformat": 4,
 "nbformat_minor": 5
}
