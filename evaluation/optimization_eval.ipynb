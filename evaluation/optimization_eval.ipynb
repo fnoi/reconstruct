{
 "cells": [
  {
   "cell_type": "code",
   "id": "initial_id",
   "metadata": {
    "collapsed": true,
    "ExecuteTime": {
     "end_time": "2024-09-02T08:43:21.340765Z",
     "start_time": "2024-09-02T08:43:21.335606Z"
    }
   },
   "source": [
    "import os\n",
    "import re\n",
    "import pandas as pd\n",
    "import numpy as np\n",
    "import matplotlib.pyplot as plt\n",
    "\n",
    "def extract_data_from_file(file_path):\n",
    "    with open(file_path, 'r') as file:\n",
    "        content = file.read()\n",
    "        content = content.replace('\\r\\n', '\\n')\n",
    "    \n",
    "    # print(\"\\n\" + \"=\"*50 + \"\\n\")\n",
    "    pattern = r\"(?:New best for swarm at iteration|Best after iteration) (\\d+): \\[([-+\\de.\\s\\n]+)\\] ([\\d.e-]+)\"\n",
    "    # print(\"Regex pattern:\")\n",
    "    # print(pattern)\n",
    "    # print(\"\\n\" + \"=\"*50 + \"\\n\")\n",
    "    \n",
    "    # Find all matches\n",
    "    matches = re.findall(pattern, content, flags=re.DOTALL)\n",
    "    if len(matches) == 0:\n",
    "        raise ValueError(\"No matches found in the file.\")\n",
    "    \n",
    "    data = []\n",
    "    for match in matches:\n",
    "        iteration = int(match[0])\n",
    "        array_values = [float(x) for x in match[1].split()]\n",
    "        cost_value = float(match[2])\n",
    "        \n",
    "        row = [iteration] + array_values + [cost_value]\n",
    "        data.append(row)\n",
    "    \n",
    "    return data"
   ],
   "outputs": [],
   "execution_count": 10
  },
  {
   "metadata": {
    "ExecuteTime": {
     "end_time": "2024-09-02T08:43:21.346485Z",
     "start_time": "2024-09-02T08:43:21.343244Z"
    }
   },
   "cell_type": "code",
   "source": [
    "def process_log_files(directory):\n",
    "    all_data = []\n",
    "    \n",
    "    for filename in os.listdir(directory):\n",
    "        print(filename)\n",
    "        if filename.endswith('.txt'):\n",
    "            file_path = os.path.join(directory, filename)\n",
    "            file_data = extract_data_from_file(file_path)\n",
    "            all_data.extend(file_data)\n",
    "    \n",
    "    # Create column names\n",
    "    num_array_values = len(all_data[0]) - 2  # Subtract iteration and cost value\n",
    "    columns = ['Iteration'] + [f'Value_{i+1}' for i in range(num_array_values)] + ['Cost']\n",
    "    \n",
    "    # Create DataFrame\n",
    "    df = pd.DataFrame(all_data, columns=columns)\n",
    "    \n",
    "    return df"
   ],
   "id": "115861831fbc8e00",
   "outputs": [],
   "execution_count": 11
  },
  {
   "metadata": {
    "ExecuteTime": {
     "end_time": "2024-09-02T08:43:21.369184Z",
     "start_time": "2024-09-02T08:43:21.347470Z"
    }
   },
   "cell_type": "code",
   "source": [
    "# Set the path to your log directory\n",
    "log_directory = '/Users/fnoic/PycharmProjects/reconstruct/experiment_log/'\n",
    "\n",
    "# Process the log files and create a DataFrame\n",
    "result_df = process_log_files(log_directory)\n",
    "result_df"
   ],
   "id": "8fe77f6069ab166",
   "outputs": [
    {
     "name": "stdout",
     "output_type": "stream",
     "text": [
      "output_1724932299.563581.txt\n",
      "output_1724932267.766028.txt\n",
      "output_1724932409.716011.txt\n",
      "output_1724932336.616912.txt\n",
      "output_1724932372.7459269.txt\n"
     ]
    },
    {
     "data": {
      "text/plain": [
       "     Iteration   Value_1   Value_2   Value_3   Value_4   Value_5   Value_6  \\\n",
       "0            1 -0.814796 -7.399610  0.018886  0.016746  0.261437  0.325521   \n",
       "1            1 -0.806006 -7.401382  0.020000  0.019130  0.268155  0.321000   \n",
       "2            1 -0.796841 -7.385337  0.016411  0.005115  0.243174  0.325521   \n",
       "3            1 -0.803612 -7.397291  0.013742  0.019732  0.248530  0.325521   \n",
       "4            1 -0.803612 -7.397291  0.013742  0.019732  0.248530  0.325521   \n",
       "..         ...       ...       ...       ...       ...       ...       ...   \n",
       "722         98 -6.677437  0.524196  0.020000  0.018723  0.133285  0.100000   \n",
       "723         99 -6.677435  0.524206  0.020000  0.018700  0.133285  0.100000   \n",
       "724         99 -6.677435  0.524206  0.020000  0.018700  0.133285  0.100000   \n",
       "725        100 -6.677433  0.524426  0.020000  0.018229  0.133285  0.100000   \n",
       "726        100 -6.677433  0.524426  0.020000  0.018229  0.133285  0.100000   \n",
       "\n",
       "         Cost  \n",
       "0    0.346556  \n",
       "1    0.336952  \n",
       "2    0.268114  \n",
       "3    0.249184  \n",
       "4    0.249184  \n",
       "..        ...  \n",
       "722  0.290714  \n",
       "723  0.290708  \n",
       "724  0.290708  \n",
       "725  0.290689  \n",
       "726  0.290689  \n",
       "\n",
       "[727 rows x 8 columns]"
      ],
      "text/html": [
       "<div>\n",
       "<style scoped>\n",
       "    .dataframe tbody tr th:only-of-type {\n",
       "        vertical-align: middle;\n",
       "    }\n",
       "\n",
       "    .dataframe tbody tr th {\n",
       "        vertical-align: top;\n",
       "    }\n",
       "\n",
       "    .dataframe thead th {\n",
       "        text-align: right;\n",
       "    }\n",
       "</style>\n",
       "<table border=\"1\" class=\"dataframe\">\n",
       "  <thead>\n",
       "    <tr style=\"text-align: right;\">\n",
       "      <th></th>\n",
       "      <th>Iteration</th>\n",
       "      <th>Value_1</th>\n",
       "      <th>Value_2</th>\n",
       "      <th>Value_3</th>\n",
       "      <th>Value_4</th>\n",
       "      <th>Value_5</th>\n",
       "      <th>Value_6</th>\n",
       "      <th>Cost</th>\n",
       "    </tr>\n",
       "  </thead>\n",
       "  <tbody>\n",
       "    <tr>\n",
       "      <th>0</th>\n",
       "      <td>1</td>\n",
       "      <td>-0.814796</td>\n",
       "      <td>-7.399610</td>\n",
       "      <td>0.018886</td>\n",
       "      <td>0.016746</td>\n",
       "      <td>0.261437</td>\n",
       "      <td>0.325521</td>\n",
       "      <td>0.346556</td>\n",
       "    </tr>\n",
       "    <tr>\n",
       "      <th>1</th>\n",
       "      <td>1</td>\n",
       "      <td>-0.806006</td>\n",
       "      <td>-7.401382</td>\n",
       "      <td>0.020000</td>\n",
       "      <td>0.019130</td>\n",
       "      <td>0.268155</td>\n",
       "      <td>0.321000</td>\n",
       "      <td>0.336952</td>\n",
       "    </tr>\n",
       "    <tr>\n",
       "      <th>2</th>\n",
       "      <td>1</td>\n",
       "      <td>-0.796841</td>\n",
       "      <td>-7.385337</td>\n",
       "      <td>0.016411</td>\n",
       "      <td>0.005115</td>\n",
       "      <td>0.243174</td>\n",
       "      <td>0.325521</td>\n",
       "      <td>0.268114</td>\n",
       "    </tr>\n",
       "    <tr>\n",
       "      <th>3</th>\n",
       "      <td>1</td>\n",
       "      <td>-0.803612</td>\n",
       "      <td>-7.397291</td>\n",
       "      <td>0.013742</td>\n",
       "      <td>0.019732</td>\n",
       "      <td>0.248530</td>\n",
       "      <td>0.325521</td>\n",
       "      <td>0.249184</td>\n",
       "    </tr>\n",
       "    <tr>\n",
       "      <th>4</th>\n",
       "      <td>1</td>\n",
       "      <td>-0.803612</td>\n",
       "      <td>-7.397291</td>\n",
       "      <td>0.013742</td>\n",
       "      <td>0.019732</td>\n",
       "      <td>0.248530</td>\n",
       "      <td>0.325521</td>\n",
       "      <td>0.249184</td>\n",
       "    </tr>\n",
       "    <tr>\n",
       "      <th>...</th>\n",
       "      <td>...</td>\n",
       "      <td>...</td>\n",
       "      <td>...</td>\n",
       "      <td>...</td>\n",
       "      <td>...</td>\n",
       "      <td>...</td>\n",
       "      <td>...</td>\n",
       "      <td>...</td>\n",
       "    </tr>\n",
       "    <tr>\n",
       "      <th>722</th>\n",
       "      <td>98</td>\n",
       "      <td>-6.677437</td>\n",
       "      <td>0.524196</td>\n",
       "      <td>0.020000</td>\n",
       "      <td>0.018723</td>\n",
       "      <td>0.133285</td>\n",
       "      <td>0.100000</td>\n",
       "      <td>0.290714</td>\n",
       "    </tr>\n",
       "    <tr>\n",
       "      <th>723</th>\n",
       "      <td>99</td>\n",
       "      <td>-6.677435</td>\n",
       "      <td>0.524206</td>\n",
       "      <td>0.020000</td>\n",
       "      <td>0.018700</td>\n",
       "      <td>0.133285</td>\n",
       "      <td>0.100000</td>\n",
       "      <td>0.290708</td>\n",
       "    </tr>\n",
       "    <tr>\n",
       "      <th>724</th>\n",
       "      <td>99</td>\n",
       "      <td>-6.677435</td>\n",
       "      <td>0.524206</td>\n",
       "      <td>0.020000</td>\n",
       "      <td>0.018700</td>\n",
       "      <td>0.133285</td>\n",
       "      <td>0.100000</td>\n",
       "      <td>0.290708</td>\n",
       "    </tr>\n",
       "    <tr>\n",
       "      <th>725</th>\n",
       "      <td>100</td>\n",
       "      <td>-6.677433</td>\n",
       "      <td>0.524426</td>\n",
       "      <td>0.020000</td>\n",
       "      <td>0.018229</td>\n",
       "      <td>0.133285</td>\n",
       "      <td>0.100000</td>\n",
       "      <td>0.290689</td>\n",
       "    </tr>\n",
       "    <tr>\n",
       "      <th>726</th>\n",
       "      <td>100</td>\n",
       "      <td>-6.677433</td>\n",
       "      <td>0.524426</td>\n",
       "      <td>0.020000</td>\n",
       "      <td>0.018229</td>\n",
       "      <td>0.133285</td>\n",
       "      <td>0.100000</td>\n",
       "      <td>0.290689</td>\n",
       "    </tr>\n",
       "  </tbody>\n",
       "</table>\n",
       "<p>727 rows × 8 columns</p>\n",
       "</div>"
      ]
     },
     "execution_count": 12,
     "metadata": {},
     "output_type": "execute_result"
    }
   ],
   "execution_count": 12
  },
  {
   "metadata": {
    "ExecuteTime": {
     "end_time": "2024-09-02T08:43:21.372846Z",
     "start_time": "2024-09-02T08:43:21.371307Z"
    }
   },
   "cell_type": "code",
   "source": "",
   "id": "8119e96246c83555",
   "outputs": [],
   "execution_count": 12
  },
  {
   "metadata": {
    "ExecuteTime": {
     "end_time": "2024-09-02T08:43:21.375567Z",
     "start_time": "2024-09-02T08:43:21.373771Z"
    }
   },
   "cell_type": "code",
   "source": "",
   "id": "7afc66dd892cbc31",
   "outputs": [],
   "execution_count": 12
  },
  {
   "metadata": {
    "ExecuteTime": {
     "end_time": "2024-09-02T08:43:21.378224Z",
     "start_time": "2024-09-02T08:43:21.376569Z"
    }
   },
   "cell_type": "code",
   "source": "",
   "id": "318b1ab35da2ac4",
   "outputs": [],
   "execution_count": 12
  },
  {
   "metadata": {
    "ExecuteTime": {
     "end_time": "2024-09-02T08:43:21.380921Z",
     "start_time": "2024-09-02T08:43:21.379256Z"
    }
   },
   "cell_type": "code",
   "source": "",
   "id": "3e8eaea44c70b8da",
   "outputs": [],
   "execution_count": 12
  },
  {
   "metadata": {
    "ExecuteTime": {
     "end_time": "2024-09-02T08:43:21.498053Z",
     "start_time": "2024-09-02T08:43:21.381774Z"
    }
   },
   "cell_type": "code",
   "source": [
    "df = result_df.groupby('Iteration')['Cost'].agg(['min', 'max'])\n",
    "\n",
    "plt.figure(figsize=(5, 3))\n",
    "plt.plot(df.index, df['min'], color='blue', label='Min')\n",
    "# plt.fill_between(df.index, df['min'], df['max'], alpha=0.3, color='blue')\n",
    "plt.xlabel('iteration')\n",
    "\n",
    "x_ticks = np.arange(0, 101, 10)\n",
    "plt.xticks(x_ticks)\n",
    "\n",
    "plt.ylabel('cost')\n",
    "# plt.title('Min-Max Area Plot')\n",
    "# plt.legend()\n",
    "# plt.yscale('log')\n",
    "plt.grid(True, linestyle='-', alpha=0.7)\n",
    "# plt.xticks(df.index)  # Ensure all index values are shown on x-axis\n",
    "plt.tight_layout()\n",
    "plt.show()"
   ],
   "id": "2aed72f2689ad52c",
   "outputs": [
    {
     "data": {
      "text/plain": [
       "<Figure size 500x300 with 1 Axes>"
      ],
      "image/png": "[encoded data removed]"
     },
     "metadata": {},
     "output_type": "display_data"
    }
   ],
   "execution_count": 13
  }
 ],
 "metadata": {
  "kernelspec": {
   "display_name": "Python 3",
   "language": "python",
   "name": "python3"
  },
  "language_info": {
   "codemirror_mode": {
    "name": "ipython",
    "version": 2
   },
   "file_extension": ".py",
   "mimetype": "text/x-python",
   "name": "python",
   "nbconvert_exporter": "python",
   "pygments_lexer": "ipython2",
   "version": "2.7.6"
  }
 },
 "nbformat": 4,
 "nbformat_minor": 5
}
