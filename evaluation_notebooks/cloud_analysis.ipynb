{
 "cells": [
  {
   "cell_type": "code",
   "execution_count": null,
   "id": "initial_id",
   "metadata": {
    "collapsed": true
   },
   "outputs": [],
   "source": [
    "data = {\n",
    "    1: (403.3, 146.2, 46737),\n",
    "    2: (328.9, 155.8, 37400),\n",
    "    3: (414.2, 162.2, 39532),\n",
    "    4: (479.8, 183.6, 40382),\n",
    "    5: (379.1, 134.9, 18610),\n",
    "    6: (434.0, 169.5, 19121),\n",
    "    7: (345.1, 154.9, 44498),\n",
    "    8: ()\n",
    "}"
   ]
  },
  {
   "metadata": {},
   "cell_type": "code",
   "outputs": [],
   "execution_count": null,
   "source": [
    "import pandas as pd\n",
    "import matplotlib.pyplot as plt"
   ],
   "id": "684f2b5d3c8b7920"
  },
  {
   "metadata": {},
   "cell_type": "code",
   "outputs": [],
   "execution_count": null,
   "source": [
    "path = '/Users/fnoic/Downloads/combo.txt'\n",
    "with open(path, 'r') as f:\n",
    "    # load txt with pandas, first row is header\n",
    "    data_loaded = pd.read_csv(f, sep=' ', header=0)\n",
    "    \n",
    "# rename column 1 to X\n",
    "data_loaded.rename(columns={'//X': 'X'}, inplace=True)\n",
    "# drop Original_cloud_index\n",
    "data_loaded.drop(columns=['Original_cloud_index'], inplace=True)\n",
    "# remove duplicates\n",
    "print(data_loaded.shape)\n",
    "data_loaded.drop_duplicates(inplace=True)\n",
    "print(data_loaded.shape)\n",
    "data_loaded.head()"
   ],
   "id": "54867ebacfeba0df"
  },
  {
   "metadata": {
    "ExecuteTime": {
     "end_time": "2024-07-17T14:40:54.502106Z",
     "start_time": "2024-07-17T14:40:54.450999Z"
    }
   },
   "cell_type": "code",
   "source": [
    "# identify unique values in column Scalar_field\n",
    "inst_ids = data_loaded['Scalar_field'].unique()\n",
    "eval = pd.DataFrame(columns=['id', 'mean', 'std', 'median', 'num_points'])\n",
    "for inst_id in inst_ids:\n",
    "    data = data_loaded[data_loaded['Scalar_field'] == inst_id]\n",
    "    nn_mean = data['Number_of_neighbors_(r=0.1)'].mean()\n",
    "    nn_std = data['Number_of_neighbors_(r=0.1)'].std()\n",
    "    nn_median = data['Number_of_neighbors_(r=0.1)'].median()\n",
    "    num_points = len(data)\n",
    "    # write to eval, not append\n",
    "    eval.loc[len(eval)] = [inst_id, nn_mean, nn_std, nn_median, num_points]\n",
    "    # print(f'Instance {inst_id} has mean {nn_mean}, std {nn_std}, median {nn_median}')"
   ],
   "id": "b90be5a69c27546",
   "outputs": [],
   "execution_count": 19
  },
  {
   "metadata": {
    "ExecuteTime": {
     "end_time": "2024-07-17T15:01:11.036584Z",
     "start_time": "2024-07-17T15:01:11.025353Z"
    }
   },
   "cell_type": "code",
   "source": [
    "# smallest number of points\n",
    "print('smallest number of points: ', eval[eval['num_points'] == eval['num_points'].min()][['id', 'num_points']])\n",
    "# largest number of points\n",
    "print('largest number of points: ', eval[eval['num_points'] == eval['num_points'].max()][['id', 'num_points']])\n",
    "# smallest mean\n",
    "print('smallest mean: ', eval[eval['mean'] == eval['mean'].min()][['id', 'mean']])\n",
    "# largest mean\n",
    "print('largest mean: ', eval[eval['mean'] == eval['mean'].max()][['id', 'mean']])\n",
    "# smallest std\n",
    "print('smallest std: ', eval[eval['std'] == eval['std'].min()][['id', 'std']])\n",
    "# largest std\n",
    "print('largest std: ', eval[eval['std'] == eval['std'].max()][['id', 'std']])"
   ],
   "id": "b866189b70eae57c",
   "outputs": [
    {
     "name": "stdout",
     "output_type": "stream",
     "text": [
      "smallest number of points:        id  num_points\n",
      "16  17.0      1213.0\n",
      "largest number of points:      id  num_points\n",
      "8  9.0     58232.0\n",
      "smallest mean:        id        mean\n",
      "15  16.0  123.838146\n",
      "largest mean:      id        mean\n",
      "3  4.0  479.796593\n",
      "smallest std:        id        std\n",
      "17  18.0  52.111382\n",
      "largest std:        id         std\n",
      "10  11.0  219.695172\n"
     ]
    }
   ],
   "execution_count": 54
  },
  {
   "metadata": {
    "ExecuteTime": {
     "end_time": "2024-07-17T14:57:10.784493Z",
     "start_time": "2024-07-17T14:57:10.465360Z"
    }
   },
   "cell_type": "code",
   "source": [
    "# make the two scatter plots in one, as subplots next to each other\n",
    "fig, axs = plt.subplots(1, 2)\n",
    "axs[0].scatter(eval['mean'], eval['num_points'], s=10)\n",
    "axs[0].set_xlabel('Mean n. of neighbors in r=0.1')\n",
    "axs[0].set_ylabel('N. of points')\n",
    "axs[1].scatter(eval['mean'], eval['std'], s=10)\n",
    "axs[1].set_xlabel('Mean n. of neighbors in r=0.1')\n",
    "axs[1].set_ylabel('Std. n. of neighbors in r=0.1')\n",
    "# change size of figure\n",
    "fig.set_size_inches(5, 3)\n",
    "# increase space between subplots\n",
    "plt.tight_layout()\n",
    "# to pdf\n",
    "plt.savefig('scatter_mean_num_points_std.pdf')\n",
    "plt.show()"
   ],
   "id": "5dd01d314ddebe30",
   "outputs": [
    {
     "data": {
      "text/plain": [
       "<Figure size 500x300 with 2 Axes>"
      ],
      "image/png": "[encoded data removed]"
     },
     "metadata": {},
     "output_type": "display_data"
    }
   ],
   "execution_count": 51
  }
 ],
 "metadata": {
  "kernelspec": {
   "display_name": "Python 3",
   "language": "python",
   "name": "python3"
  },
  "language_info": {
   "codemirror_mode": {
    "name": "ipython",
    "version": 2
   },
   "file_extension": ".py",
   "mimetype": "text/x-python",
   "name": "python",
   "nbconvert_exporter": "python",
   "pygments_lexer": "ipython2",
   "version": "2.7.6"
  }
 },
 "nbformat": 4,
 "nbformat_minor": 5
}
